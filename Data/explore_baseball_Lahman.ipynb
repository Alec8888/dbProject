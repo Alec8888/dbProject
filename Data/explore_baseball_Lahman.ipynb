{
 "cells": [
  {
   "cell_type": "markdown",
   "metadata": {},
   "source": [
    "# Lahman Baseball Database\n",
    "http://seanlahman.com/download-baseball-database/"
   ]
  },
  {
   "cell_type": "code",
   "execution_count": 1,
   "metadata": {},
   "outputs": [],
   "source": [
    "import pandas as pd"
   ]
  },
  {
   "cell_type": "code",
   "execution_count": 5,
   "metadata": {},
   "outputs": [],
   "source": [
    "# /dbProject/Data/lahman/dataName.csv\n",
    "batting = pd.read_csv('lahman/batting.csv')\n",
    "appearances = pd.read_csv('lahman/Appearances.csv')\n",
    "battingPost = pd.read_csv('lahman/BattingPost.csv')\n",
    "fielding = pd.read_csv('lahman/Fielding.csv')\n",
    "pitching = pd.read_csv('lahman/Pitching.csv')"
   ]
  },
  {
   "cell_type": "code",
   "execution_count": 7,
   "metadata": {},
   "outputs": [
    {
     "name": "stdout",
     "output_type": "stream",
     "text": [
      "Number of rows in batting: 112184\n",
      "Number of rows in appearances: 112106\n",
      "Number of rows in battingPost: 16374\n",
      "Number of rows in fielding: 149365\n",
      "Number of rows in pitching: 50402\n"
     ]
    }
   ],
   "source": [
    "print(\"Number of rows in batting:\", len(batting))\n",
    "print(\"Number of rows in appearances:\", len(appearances))\n",
    "print(\"Number of rows in battingPost:\", len(battingPost))\n",
    "print(\"Number of rows in fielding:\", len(fielding))\n",
    "print(\"Number of rows in pitching:\", len(pitching))\n"
   ]
  },
  {
   "cell_type": "markdown",
   "metadata": {},
   "source": [
    "## Possible Questions:\n",
    "- Compare eras or decades\n",
    "- Players with breakout seasons or breakout post-seasons\n",
    "- Players with the most consistent seasons (standard deviation calculation?)\n",
    "- Impact of stolen bases, bunts, hr, etc. on winning or runs"
   ]
  },
  {
   "cell_type": "markdown",
   "metadata": {},
   "source": []
  }
 ],
 "metadata": {
  "kernelspec": {
   "display_name": "Python 3",
   "language": "python",
   "name": "python3"
  },
  "language_info": {
   "codemirror_mode": {
    "name": "ipython",
    "version": 3
   },
   "file_extension": ".py",
   "mimetype": "text/x-python",
   "name": "python",
   "nbconvert_exporter": "python",
   "pygments_lexer": "ipython3",
   "version": "3.11.1"
  },
  "orig_nbformat": 4
 },
 "nbformat": 4,
 "nbformat_minor": 2
}
